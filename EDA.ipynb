{
 "cells": [
  {
   "cell_type": "code",
   "execution_count": 36,
   "metadata": {},
   "outputs": [
    {
     "name": "stderr",
     "output_type": "stream",
     "text": [
      "/usr/lib/python3/dist-packages/ipykernel_launcher.py:22: DeprecationWarning: invalid escape sequence '\\@'\n",
      "/usr/lib/python3/dist-packages/ipykernel_launcher.py:22: DeprecationWarning: invalid escape sequence '\\<'\n",
      "/usr/lib/python3/dist-packages/ipykernel_launcher.py:22: DeprecationWarning: invalid escape sequence '\\G'\n",
      "/usr/lib/python3/dist-packages/ipykernel_launcher.py:22: DeprecationWarning: invalid escape sequence '\\ '\n"
     ]
    },
    {
     "name": "stdout",
     "output_type": "stream",
     "text": [
      "Writing completed.\n"
     ]
    }
   ],
   "source": [
    "import json\n",
    "import pandas as pd\n",
    "import requests\n",
    "#import string\n",
    "\n",
    "def remove_hex(s):\n",
    "    '''\n",
    "    Method to remove hex characters from string. Note that import string has to be called here, and not above.\n",
    "    '''    \n",
    "    import string\n",
    "    printable = set(string.printable)\n",
    "    s2 = ''.join(filter(lambda x: x in printable, s))\n",
    "    return(s2)\n",
    "\n",
    "def remove_chars(s):\n",
    "    '''\n",
    "    Method to remove punctuations and other non-unicode characters.\n",
    "    '''\n",
    "    to_be_removed = ['translated_text','annotation_list',':','{','}','\\n','[',']','  ','&','?','!',';','.','*','(',')','^','+','=','\\\"','\\'','>','<','-','\\\\']\n",
    "    import codecs\n",
    "    \n",
    "    s = codecs.decode(s, 'unicode_escape')\n",
    "    \n",
    "    s = remove_hex(s)\n",
    "    #print(\"translated_text\" in s)\n",
    "    for char in to_be_removed:\n",
    "        s = s.replace(char,'')\n",
    "    return s\n",
    "\n",
    "                     \n",
    "#Read the corrupt JSON file -- lots of issues: (A) Unicode decoding difficult (B) Various invalid characters\n",
    "def main():\n",
    "\n",
    "    f = open('fear_speech_data.json','rb')\n",
    "    fout2 = open('fear_speech.csv','w')\n",
    "                     \n",
    "    flag = 0 #Flag to understand which tag encountered last\n",
    "    string1 = '' #Strings to keep only required text (tags)\n",
    "    string2 = '' #Strings to keep only required text (tags)\n",
    "    current=''\n",
    "    c=0\n",
    "\n",
    "    for line in f.readlines():\n",
    "        line = line.decode(\"utf-8\",errors=\"ignore\")\n",
    "        line=str(line)\n",
    "\n",
    "        l = line.strip().split(\":\")\n",
    "        #Tag is translated text. It has to be written.\n",
    "        if \"translated_text\" in l[0]: #or \"annotation_list\" in l[0]:\n",
    "            current='tt' #current saves the tag encountered currently\n",
    "            flag = 0\n",
    "            string1+=line+'\\t'\n",
    "        #Tag is annotation_list (ground truth labels). It has to be written.\n",
    "        elif \"annotation_list\" in l[0]:\n",
    "            flag=0\n",
    "            current='al'\n",
    "            string2 += line+'\\t'\n",
    "        #Message text to be ignored. Flag set to 1.\n",
    "        elif \"message_text\" in l[0] or flag==1:\n",
    "            flag = 1\n",
    "            current = 'mt'\n",
    "            continue\n",
    "        #Propagation text to be ignored. Flag set to 1.\n",
    "        #However, here we write to the file.\n",
    "        elif \"propagation\" in l[0]:\n",
    "            flag = 1\n",
    "            current='pp'\n",
    "            string3 = remove_chars(string1+string2)\n",
    "            c+=1\n",
    "            fout2.write(string3+'\\n')\n",
    "            current = ''\n",
    "            string1 = ''\n",
    "            string2 = ''\n",
    "            #if c>=2:\n",
    "            #    break\n",
    "        #If the tag is translated_text or annotation_list, append the string to the line. This line is to be written.\n",
    "        elif flag==0 and current=='tt':\n",
    "            string1+=line\n",
    "        elif flag==0 and current=='al':\n",
    "            string2+=line\n",
    "    fout2.close()\n",
    "    print(\"Writing completed.\")\n",
    "\n",
    "if __name__ == \"__main__\":\n",
    "    main()"
   ]
  },
  {
   "cell_type": "code",
   "execution_count": 22,
   "metadata": {},
   "outputs": [],
   "source": []
  }
 ],
 "metadata": {
  "kernelspec": {
   "display_name": "Python 3",
   "language": "python",
   "name": "python3"
  },
  "language_info": {
   "codemirror_mode": {
    "name": "ipython",
    "version": 3
   },
   "file_extension": ".py",
   "mimetype": "text/x-python",
   "name": "python",
   "nbconvert_exporter": "python",
   "pygments_lexer": "ipython3",
   "version": "3.6.9"
  }
 },
 "nbformat": 4,
 "nbformat_minor": 2
}
